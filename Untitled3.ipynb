{
  "nbformat": 4,
  "nbformat_minor": 0,
  "metadata": {
    "colab": {
      "name": "Untitled3.ipynb",
      "provenance": [],
      "collapsed_sections": [],
      "mount_file_id": "1PY2NTm4gApwxu_KJ-Jzsigovv8Ez4kbY",
      "authorship_tag": "ABX9TyNSyrIY2pNun4GL7896Votz",
      "include_colab_link": true
    },
    "kernelspec": {
      "name": "python3",
      "display_name": "Python 3"
    }
  },
  "cells": [
    {
      "cell_type": "markdown",
      "metadata": {
        "id": "view-in-github",
        "colab_type": "text"
      },
      "source": [
        "<a href=\"https://colab.research.google.com/github/mansi-98/Nutritional_values_in_food/blob/master/Untitled3.ipynb\" target=\"_parent\"><img src=\"https://colab.research.google.com/assets/colab-badge.svg\" alt=\"Open In Colab\"/></a>"
      ]
    },
    {
      "cell_type": "code",
      "metadata": {
        "id": "vp-3bjSBQBV2",
        "colab_type": "code",
        "colab": {}
      },
      "source": [
        "import numpy as np\n",
        "import pandas as pd\n"
      ],
      "execution_count": 0,
      "outputs": []
    },
    {
      "cell_type": "code",
      "metadata": {
        "id": "cA-dvdzaPhHd",
        "colab_type": "code",
        "colab": {}
      },
      "source": [
        "dataset=pd.read_csv(\"/content/drive/My Drive/NutritionalFacts_Fruit_Vegetables_Seafood.csv\", sep=',', encoding='latin-1')"
      ],
      "execution_count": 0,
      "outputs": []
    },
    {
      "cell_type": "code",
      "metadata": {
        "id": "rUkm6DjDP-7U",
        "colab_type": "code",
        "colab": {}
      },
      "source": [
        "# dataset.head()"
      ],
      "execution_count": 0,
      "outputs": []
    },
    {
      "cell_type": "code",
      "metadata": {
        "id": "yOMSZhf-ANOg",
        "colab_type": "code",
        "outputId": "d64ee906-5895-4b8d-b9e1-1422ef1406f1",
        "colab": {
          "base_uri": "https://localhost:8080/",
          "height": 34
        }
      },
      "source": [
        "dataset.shape"
      ],
      "execution_count": 4,
      "outputs": [
        {
          "output_type": "execute_result",
          "data": {
            "text/plain": [
              "(62, 24)"
            ]
          },
          "metadata": {
            "tags": []
          },
          "execution_count": 4
        }
      ]
    },
    {
      "cell_type": "code",
      "metadata": {
        "id": "ju8D3zzR9ILp",
        "colab_type": "code",
        "colab": {}
      },
      "source": [
        "dataset=dataset.dropna(thresh=31,axis=1)\n",
        "# dataset.head()"
      ],
      "execution_count": 0,
      "outputs": []
    },
    {
      "cell_type": "code",
      "metadata": {
        "id": "RtzdkwkuAfL1",
        "colab_type": "code",
        "outputId": "a2ace6ab-bfea-4188-f129-1e2bd8d83321",
        "colab": {
          "base_uri": "https://localhost:8080/",
          "height": 34
        }
      },
      "source": [
        "dataset.shape"
      ],
      "execution_count": 6,
      "outputs": [
        {
          "output_type": "execute_result",
          "data": {
            "text/plain": [
              "(62, 20)"
            ]
          },
          "metadata": {
            "tags": []
          },
          "execution_count": 6
        }
      ]
    },
    {
      "cell_type": "code",
      "metadata": {
        "id": "fqm6tWSJTlSr",
        "colab_type": "code",
        "outputId": "673b8c1b-4530-42b6-bf4b-fb692a2400a5",
        "colab": {
          "base_uri": "https://localhost:8080/",
          "height": 195
        }
      },
      "source": [
        "data=pd.read_csv(\"/content/drive/My Drive/NutritionalFacts_Fruit_Vegetables_Seafood.csv\", sep=',',usecols=[0,1,3,5,7,9,14,17] ,encoding='latin-1')\n",
        "data.head()\n"
      ],
      "execution_count": 8,
      "outputs": [
        {
          "output_type": "execute_result",
          "data": {
            "text/html": [
              "<div>\n",
              "<style scoped>\n",
              "    .dataframe tbody tr th:only-of-type {\n",
              "        vertical-align: middle;\n",
              "    }\n",
              "\n",
              "    .dataframe tbody tr th {\n",
              "        vertical-align: top;\n",
              "    }\n",
              "\n",
              "    .dataframe thead th {\n",
              "        text-align: right;\n",
              "    }\n",
              "</style>\n",
              "<table border=\"1\" class=\"dataframe\">\n",
              "  <thead>\n",
              "    <tr style=\"text-align: right;\">\n",
              "      <th></th>\n",
              "      <th>Food and Serving</th>\n",
              "      <th>Calories</th>\n",
              "      <th>Total Fat</th>\n",
              "      <th>Sodium</th>\n",
              "      <th>Potassium</th>\n",
              "      <th>Total Carbo-hydrate</th>\n",
              "      <th>Protein</th>\n",
              "      <th>Calcium</th>\n",
              "    </tr>\n",
              "  </thead>\n",
              "  <tbody>\n",
              "    <tr>\n",
              "      <th>0</th>\n",
              "      <td>NaN</td>\n",
              "      <td>NaN</td>\n",
              "      <td>(g)</td>\n",
              "      <td>(g)</td>\n",
              "      <td>(g)</td>\n",
              "      <td>(g)</td>\n",
              "      <td>(g)</td>\n",
              "      <td>(%DV)</td>\n",
              "    </tr>\n",
              "    <tr>\n",
              "      <th>1</th>\n",
              "      <td>Asparagus, 5 spears (93 g/3.3 oz)</td>\n",
              "      <td>20.0</td>\n",
              "      <td>0</td>\n",
              "      <td>0</td>\n",
              "      <td>230</td>\n",
              "      <td>4</td>\n",
              "      <td>2</td>\n",
              "      <td>2</td>\n",
              "    </tr>\n",
              "    <tr>\n",
              "      <th>2</th>\n",
              "      <td>Bell Pepper, 1 medium (148 g/5.3 oz)</td>\n",
              "      <td>25.0</td>\n",
              "      <td>0</td>\n",
              "      <td>40</td>\n",
              "      <td>220</td>\n",
              "      <td>6</td>\n",
              "      <td>1</td>\n",
              "      <td>2</td>\n",
              "    </tr>\n",
              "    <tr>\n",
              "      <th>3</th>\n",
              "      <td>Broccoli, 1 medium stalk (148 g/5.3 oz)</td>\n",
              "      <td>45.0</td>\n",
              "      <td>0.5</td>\n",
              "      <td>80</td>\n",
              "      <td>460</td>\n",
              "      <td>8</td>\n",
              "      <td>4</td>\n",
              "      <td>6</td>\n",
              "    </tr>\n",
              "    <tr>\n",
              "      <th>4</th>\n",
              "      <td>Carrot, 1 carrot, 7\" long,Ê1 1/4\" diameter (78...</td>\n",
              "      <td>30.0</td>\n",
              "      <td>0</td>\n",
              "      <td>60</td>\n",
              "      <td>250</td>\n",
              "      <td>7</td>\n",
              "      <td>1</td>\n",
              "      <td>2</td>\n",
              "    </tr>\n",
              "  </tbody>\n",
              "</table>\n",
              "</div>"
            ],
            "text/plain": [
              "                                    Food and Serving  Calories  ... Protein Calcium\n",
              "0                                                NaN       NaN  ...     (g)   (%DV)\n",
              "1                  Asparagus, 5 spears (93 g/3.3 oz)      20.0  ...       2       2\n",
              "2               Bell Pepper, 1 medium (148 g/5.3 oz)      25.0  ...       1       2\n",
              "3            Broccoli, 1 medium stalk (148 g/5.3 oz)      45.0  ...       4       6\n",
              "4  Carrot, 1 carrot, 7\" long,Ê1 1/4\" diameter (78...      30.0  ...       1       2\n",
              "\n",
              "[5 rows x 8 columns]"
            ]
          },
          "metadata": {
            "tags": []
          },
          "execution_count": 8
        }
      ]
    },
    {
      "cell_type": "code",
      "metadata": {
        "id": "OSIF-rKq-GYq",
        "colab_type": "code",
        "outputId": "54e88a5d-cb8b-431e-9e59-801426bf8986",
        "colab": {
          "base_uri": "https://localhost:8080/",
          "height": 168
        }
      },
      "source": [
        "data.isnull().sum()"
      ],
      "execution_count": 9,
      "outputs": [
        {
          "output_type": "execute_result",
          "data": {
            "text/plain": [
              "Food and Serving       1\n",
              "Calories               1\n",
              "Total Fat              0\n",
              "Sodium                 0\n",
              "Potassium              0\n",
              "Total Carbo-hydrate    0\n",
              "Protein                0\n",
              "Calcium                0\n",
              "dtype: int64"
            ]
          },
          "metadata": {
            "tags": []
          },
          "execution_count": 9
        }
      ]
    },
    {
      "cell_type": "code",
      "metadata": {
        "id": "_3Uyufx9RHcS",
        "colab_type": "code",
        "colab": {}
      },
      "source": [
        "import matplotlib.pyplot as plt\n",
        "labels='Calories','Total Fat','Sodium','Potassium','Total Carbo-hydrate','Protein','Calcium'\n",
        "explode=(0.2,0.2,0.2,0.2,0.2,0.2,0.2)"
      ],
      "execution_count": 0,
      "outputs": []
    },
    {
      "cell_type": "markdown",
      "metadata": {
        "id": "DMvEaBPzRAzR",
        "colab_type": "text"
      },
      "source": [
        "# **Enter food item**"
      ]
    },
    {
      "cell_type": "code",
      "metadata": {
        "id": "bj4jLwsea0uc",
        "colab_type": "code",
        "colab": {
          "base_uri": "https://localhost:8080/",
          "height": 34
        },
        "outputId": "0a43e78f-2d73-4041-e161-994a2269d62c"
      },
      "source": [
        "n=int(input(\"enter number of input\"))"
      ],
      "execution_count": 12,
      "outputs": [
        {
          "output_type": "stream",
          "text": [
            "enter number of input1\n"
          ],
          "name": "stdout"
        }
      ]
    },
    {
      "cell_type": "code",
      "metadata": {
        "id": "CuLMarHxaElg",
        "colab_type": "code",
        "colab": {
          "base_uri": "https://localhost:8080/",
          "height": 34
        },
        "outputId": "8e9e7f82-1c01-4e08-b5b3-9301c3559a0e"
      },
      "source": [
        "texts =[]\n",
        "for i in range(0,n):\n",
        "  text = input(\"enter text and run the cell :\")\n",
        "  texts.append(text)"
      ],
      "execution_count": 13,
      "outputs": [
        {
          "output_type": "stream",
          "text": [
            "enter text and run the cell :Carrot\n"
          ],
          "name": "stdout"
        }
      ]
    },
    {
      "cell_type": "code",
      "metadata": {
        "id": "8FxCcYUuc2KT",
        "colab_type": "code",
        "colab": {
          "base_uri": "https://localhost:8080/",
          "height": 34
        },
        "outputId": "df483917-e43e-413b-c794-88bd0f857fc8"
      },
      "source": [
        "texts"
      ],
      "execution_count": 14,
      "outputs": [
        {
          "output_type": "execute_result",
          "data": {
            "text/plain": [
              "['Carrot']"
            ]
          },
          "metadata": {
            "tags": []
          },
          "execution_count": 14
        }
      ]
    },
    {
      "cell_type": "code",
      "metadata": {
        "id": "UXQ-fxr7e-vn",
        "colab_type": "code",
        "colab": {}
      },
      "source": [
        "from numpy import array\n",
        "index=[]\n",
        "for j in range(0,n):\n",
        "  x=data['Food and Serving'].str.match(texts[j])\n",
        "  x=[i for i, val in enumerate(x) if val]\n",
        "  y=x[1]\n",
        "  index.append(y)"
      ],
      "execution_count": 0,
      "outputs": []
    },
    {
      "cell_type": "code",
      "metadata": {
        "id": "0VBa7lE7N4nu",
        "colab_type": "code",
        "outputId": "eb407f36-8ae2-49c0-c9b1-e7d3c06bab0a",
        "colab": {
          "base_uri": "https://localhost:8080/",
          "height": 477
        }
      },
      "source": [
        "\n",
        "for z in index:\n",
        "  row=data.iloc[z]\n",
        "# sizes = [20.0,0,0,230,4,2,2]\n",
        "  sizes=row[1:8]\n",
        "  fig1, ax1 = plt.subplots(figsize=(8,8))\n",
        "  ax1.pie(sizes,explode=explode, labels=labels,autopct='%1.1f%%',shadow=True, startangle=90)\n",
        "  plt.legend()\n",
        "  ax1.axis('equal')  # Equal aspect ratio ensures that pie is drawn as a circle.\n",
        "  plt.show()"
      ],
      "execution_count": 16,
      "outputs": [
        {
          "output_type": "display_data",
          "data": {
            "image/png": "[encoded data removed]",
            "text/plain": [
              "<Figure size 576x576 with 1 Axes>"
            ]
          },
          "metadata": {
            "tags": []
          }
        }
      ]
    },
    {
      "cell_type": "code",
      "metadata": {
        "id": "1cEltpdhOAtc",
        "colab_type": "code",
        "colab": {}
      },
      "source": [
        ""
      ],
      "execution_count": 0,
      "outputs": []
    }
  ]
}